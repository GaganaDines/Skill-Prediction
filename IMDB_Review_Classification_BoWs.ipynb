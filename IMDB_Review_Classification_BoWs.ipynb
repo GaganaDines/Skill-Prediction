{
  "cells": [
    {
      "cell_type": "markdown",
      "metadata": {
        "id": "dqaeaX2Ctb9O"
      },
      "source": [
        "Importing packages"
      ]
    },
    {
      "cell_type": "code",
      "execution_count": 1,
      "metadata": {
        "id": "dGPypJ3vssij"
      },
      "outputs": [],
      "source": [
        "import os\n",
        "import sys\n",
        "\n",
        "import numpy as np\n",
        "import pandas as pd\n",
        "import matplotlib.pyplot as plt\n",
        "import seaborn as sns\n",
        "import re\n",
        "from sklearn.preprocessing import LabelEncoder\n",
        "from sklearn.metrics import accuracy_score\n",
        "from sklearn.metrics import precision_score\n",
        "from sklearn.metrics import recall_score\n",
        "from sklearn.metrics import f1_score\n"
      ]
    },
    {
      "cell_type": "markdown",
      "metadata": {
        "id": "GoxiB4Mwtf2A"
      },
      "source": [
        "Mounting the google drive directory"
      ]
    },
    {
      "cell_type": "code",
      "execution_count": 2,
      "metadata": {
        "colab": {
          "base_uri": "https://localhost:8080/"
        },
        "id": "jMPmA7fDtS_9",
        "outputId": "d84a3f0d-516c-4fad-8787-007fba9151ff"
      },
      "outputs": [
        {
          "output_type": "stream",
          "name": "stdout",
          "text": [
            "Mounted at /content/gdrive\n"
          ]
        }
      ],
      "source": [
        "from google.colab import drive\n",
        "drive.mount('/content/gdrive')"
      ]
    },
    {
      "cell_type": "markdown",
      "metadata": {
        "id": "rmtLpibZI4IB"
      },
      "source": [
        "Setting up the root directory of the project"
      ]
    },
    {
      "cell_type": "code",
      "execution_count": 3,
      "metadata": {
        "id": "HGwCSZVFtiRb",
        "colab": {
          "base_uri": "https://localhost:8080/"
        },
        "outputId": "79a91338-9e15-4f92-aa89-3d18a761f498"
      },
      "outputs": [
        {
          "output_type": "execute_result",
          "data": {
            "text/plain": [
              "['dataset',\n",
              " 'Part1_error_solved.ipynb',\n",
              " 'part3.ipynb',\n",
              " 'models',\n",
              " 'Part2-word2vec.ipynb',\n",
              " 'Part2.ipynb',\n",
              " 'Part1.ipynb']"
            ]
          },
          "metadata": {},
          "execution_count": 3
        }
      ],
      "source": [
        "root_data_path = '/content/gdrive/MyDrive/Colab Notebooks/Kaggle-NLP-Tutorial'\n",
        "\n",
        "os.listdir(root_data_path)"
      ]
    },
    {
      "cell_type": "markdown",
      "metadata": {
        "id": "tAZxYCREujsn"
      },
      "source": [
        "Import the pandas package, then use the \"read_csv\" function to read the labeled training data\n"
      ]
    },
    {
      "cell_type": "code",
      "execution_count": 4,
      "metadata": {
        "id": "b3B1Id5SuEYk"
      },
      "outputs": [],
      "source": [
        "import pandas as pd\n",
        "train = pd.read_csv(root_data_path + '/dataset/' + \"labeledTrainData.tsv.zip\", header=0, \\\n",
        "                    delimiter=\"\\t\", quoting=3)"
      ]
    },
    {
      "cell_type": "markdown",
      "metadata": {
        "id": "E8tNm9pEJOVo"
      },
      "source": [
        "Reading rows and columns"
      ]
    },
    {
      "cell_type": "code",
      "execution_count": 5,
      "metadata": {
        "colab": {
          "base_uri": "https://localhost:8080/"
        },
        "id": "cdR_rkDdu35Z",
        "outputId": "5ea90e24-ac1c-486e-a52d-d040c9deaf9e"
      },
      "outputs": [
        {
          "output_type": "stream",
          "name": "stdout",
          "text": [
            "(25000, 3)\n",
            "Index(['id', 'sentiment', 'review'], dtype='object')\n",
            "         id  sentiment                                             review\n",
            "0  \"5814_8\"          1  \"With all this stuff going down at the moment ...\n",
            "1  \"2381_9\"          1  \"\\\"The Classic War of the Worlds\\\" by Timothy ...\n",
            "2  \"7759_3\"          0  \"The film starts with a manager (Nicholas Bell...\n",
            "3  \"3630_4\"          0  \"It must be assumed that those who praised thi...\n",
            "4  \"9495_8\"          1  \"Superbly trashy and wondrously unpretentious ...\n"
          ]
        }
      ],
      "source": [
        "print (train.shape)\n",
        "print (train.columns)\n",
        "print (train.head(5))"
      ]
    },
    {
      "cell_type": "code",
      "execution_count": 6,
      "metadata": {
        "colab": {
          "base_uri": "https://localhost:8080/"
        },
        "id": "8FMbzQgXwGwC",
        "outputId": "b1f02a4b-fb35-4c31-bf3d-beb0fd5435fe"
      },
      "outputs": [
        {
          "output_type": "execute_result",
          "data": {
            "text/plain": [
              "(25000, 3)"
            ]
          },
          "metadata": {},
          "execution_count": 6
        }
      ],
      "source": [
        "train.shape"
      ]
    },
    {
      "cell_type": "code",
      "execution_count": 7,
      "metadata": {
        "colab": {
          "base_uri": "https://localhost:8080/"
        },
        "id": "uL1qyixow5Af",
        "outputId": "0940c8a2-58fe-45ac-c261-b339e50652d3"
      },
      "outputs": [
        {
          "output_type": "execute_result",
          "data": {
            "text/plain": [
              "array(['id', 'sentiment', 'review'], dtype=object)"
            ]
          },
          "metadata": {},
          "execution_count": 7
        }
      ],
      "source": [
        "train.columns.values"
      ]
    },
    {
      "cell_type": "code",
      "execution_count": null,
      "metadata": {
        "colab": {
          "base_uri": "https://localhost:8080/"
        },
        "id": "6ynUDcgiw_0N",
        "outputId": "e7e30279-f09f-459e-89c6-af460b82e3d5"
      },
      "outputs": [
        {
          "output_type": "stream",
          "name": "stdout",
          "text": [
            "\"With all this stuff going down at the moment with MJ i've started listening to his music, watching the odd documentary here and there, watched The Wiz and watched Moonwalker again. Maybe i just want to get a certain insight into this guy who i thought was really cool in the eighties just to maybe make up my mind whether he is guilty or innocent. Moonwalker is part biography, part feature film which i remember going to see at the cinema when it was originally released. Some of it has subtle messages about MJ's feeling towards the press and also the obvious message of drugs are bad m'kay.<br /><br />Visually impressive but of course this is all about Michael Jackson so unless you remotely like MJ in anyway then you are going to hate this and find it boring. Some may call MJ an egotist for consenting to the making of this movie BUT MJ and most of his fans would say that he made it for the fans which if true is really nice of him.<br /><br />The actual feature film bit when it finally starts is only on for 20 minutes or so excluding the Smooth Criminal sequence and Joe Pesci is convincing as a psychopathic all powerful drug lord. Why he wants MJ dead so bad is beyond me. Because MJ overheard his plans? Nah, Joe Pesci's character ranted that he wanted people to know it is he who is supplying drugs etc so i dunno, maybe he just hates MJ's music.<br /><br />Lots of cool things in this like MJ turning into a car and a robot and the whole Speed Demon sequence. Also, the director must have had the patience of a saint when it came to filming the kiddy Bad sequence as usually directors hate working with one kid let alone a whole bunch of them performing a complex dance scene.<br /><br />Bottom line, this movie is for people who like MJ on one level or another (which i think is most people). If not, then stay away. It does try and give off a wholesome message and ironically MJ's bestest buddy in this movie is a girl! Michael Jackson is truly one of the most talented people ever to grace this planet but is he guilty? Well, with all the attention i've gave this subject....hmmm well i don't know because people can be different behind closed doors, i know this for a fact. He is either an extremely nice but stupid guy or one of the most sickest liars. I hope he is not the latter.\"\n"
          ]
        }
      ],
      "source": [
        "print (train[\"review\"][0])"
      ]
    },
    {
      "cell_type": "markdown",
      "metadata": {
        "id": "P7m0XmEPxcXB"
      },
      "source": [
        "Import BeautifulSoup into your workspace"
      ]
    },
    {
      "cell_type": "code",
      "execution_count": 8,
      "metadata": {
        "colab": {
          "base_uri": "https://localhost:8080/"
        },
        "id": "RN2-OesIxQFP",
        "outputId": "5057eb0f-7a32-4aeb-e962-c6ee1cceaa4c"
      },
      "outputs": [
        {
          "output_type": "stream",
          "name": "stdout",
          "text": [
            "\"With all this stuff going down at the moment with MJ i've started listening to his music, watching the odd documentary here and there, watched The Wiz and watched Moonwalker again. Maybe i just want to get a certain insight into this guy who i thought was really cool in the eighties just to maybe make up my mind whether he is guilty or innocent. Moonwalker is part biography, part feature film which i remember going to see at the cinema when it was originally released. Some of it has subtle messages about MJ's feeling towards the press and also the obvious message of drugs are bad m'kay.<br /><br />Visually impressive but of course this is all about Michael Jackson so unless you remotely like MJ in anyway then you are going to hate this and find it boring. Some may call MJ an egotist for consenting to the making of this movie BUT MJ and most of his fans would say that he made it for the fans which if true is really nice of him.<br /><br />The actual feature film bit when it finally starts is only on for 20 minutes or so excluding the Smooth Criminal sequence and Joe Pesci is convincing as a psychopathic all powerful drug lord. Why he wants MJ dead so bad is beyond me. Because MJ overheard his plans? Nah, Joe Pesci's character ranted that he wanted people to know it is he who is supplying drugs etc so i dunno, maybe he just hates MJ's music.<br /><br />Lots of cool things in this like MJ turning into a car and a robot and the whole Speed Demon sequence. Also, the director must have had the patience of a saint when it came to filming the kiddy Bad sequence as usually directors hate working with one kid let alone a whole bunch of them performing a complex dance scene.<br /><br />Bottom line, this movie is for people who like MJ on one level or another (which i think is most people). If not, then stay away. It does try and give off a wholesome message and ironically MJ's bestest buddy in this movie is a girl! Michael Jackson is truly one of the most talented people ever to grace this planet but is he guilty? Well, with all the attention i've gave this subject....hmmm well i don't know because people can be different behind closed doors, i know this for a fact. He is either an extremely nice but stupid guy or one of the most sickest liars. I hope he is not the latter.\"\n",
            "\"With all this stuff going down at the moment with MJ i've started listening to his music, watching the odd documentary here and there, watched The Wiz and watched Moonwalker again. Maybe i just want to get a certain insight into this guy who i thought was really cool in the eighties just to maybe make up my mind whether he is guilty or innocent. Moonwalker is part biography, part feature film which i remember going to see at the cinema when it was originally released. Some of it has subtle messages about MJ's feeling towards the press and also the obvious message of drugs are bad m'kay.Visually impressive but of course this is all about Michael Jackson so unless you remotely like MJ in anyway then you are going to hate this and find it boring. Some may call MJ an egotist for consenting to the making of this movie BUT MJ and most of his fans would say that he made it for the fans which if true is really nice of him.The actual feature film bit when it finally starts is only on for 20 minutes or so excluding the Smooth Criminal sequence and Joe Pesci is convincing as a psychopathic all powerful drug lord. Why he wants MJ dead so bad is beyond me. Because MJ overheard his plans? Nah, Joe Pesci's character ranted that he wanted people to know it is he who is supplying drugs etc so i dunno, maybe he just hates MJ's music.Lots of cool things in this like MJ turning into a car and a robot and the whole Speed Demon sequence. Also, the director must have had the patience of a saint when it came to filming the kiddy Bad sequence as usually directors hate working with one kid let alone a whole bunch of them performing a complex dance scene.Bottom line, this movie is for people who like MJ on one level or another (which i think is most people). If not, then stay away. It does try and give off a wholesome message and ironically MJ's bestest buddy in this movie is a girl! Michael Jackson is truly one of the most talented people ever to grace this planet but is he guilty? Well, with all the attention i've gave this subject....hmmm well i don't know because people can be different behind closed doors, i know this for a fact. He is either an extremely nice but stupid guy or one of the most sickest liars. I hope he is not the latter.\"\n"
          ]
        }
      ],
      "source": [
        "from bs4 import BeautifulSoup\n",
        "example1 = BeautifulSoup(train[\"review\"][0])\n",
        "print (train[\"review\"][0])\n",
        "print (example1.get_text())"
      ]
    },
    {
      "cell_type": "markdown",
      "metadata": {
        "id": "LOdnHTLwx7AR"
      },
      "source": [
        "Use regular expressions to do a find-and-replace"
      ]
    },
    {
      "cell_type": "code",
      "execution_count": 9,
      "metadata": {
        "colab": {
          "base_uri": "https://localhost:8080/"
        },
        "id": "UTG8cY6hx8UK",
        "outputId": "104a6d64-8836-476f-828b-12cdf781799a"
      },
      "outputs": [
        {
          "output_type": "stream",
          "name": "stdout",
          "text": [
            " With all this stuff going down at the moment with MJ i ve started listening to his music  watching the odd documentary here and there  watched The Wiz and watched Moonwalker again  Maybe i just want to get a certain insight into this guy who i thought was really cool in the eighties just to maybe make up my mind whether he is guilty or innocent  Moonwalker is part biography  part feature film which i remember going to see at the cinema when it was originally released  Some of it has subtle messages about MJ s feeling towards the press and also the obvious message of drugs are bad m kay Visually impressive but of course this is all about Michael Jackson so unless you remotely like MJ in anyway then you are going to hate this and find it boring  Some may call MJ an egotist for consenting to the making of this movie BUT MJ and most of his fans would say that he made it for the fans which if true is really nice of him The actual feature film bit when it finally starts is only on for    minutes or so excluding the Smooth Criminal sequence and Joe Pesci is convincing as a psychopathic all powerful drug lord  Why he wants MJ dead so bad is beyond me  Because MJ overheard his plans  Nah  Joe Pesci s character ranted that he wanted people to know it is he who is supplying drugs etc so i dunno  maybe he just hates MJ s music Lots of cool things in this like MJ turning into a car and a robot and the whole Speed Demon sequence  Also  the director must have had the patience of a saint when it came to filming the kiddy Bad sequence as usually directors hate working with one kid let alone a whole bunch of them performing a complex dance scene Bottom line  this movie is for people who like MJ on one level or another  which i think is most people   If not  then stay away  It does try and give off a wholesome message and ironically MJ s bestest buddy in this movie is a girl  Michael Jackson is truly one of the most talented people ever to grace this planet but is he guilty  Well  with all the attention i ve gave this subject    hmmm well i don t know because people can be different behind closed doors  i know this for a fact  He is either an extremely nice but stupid guy or one of the most sickest liars  I hope he is not the latter  \n"
          ]
        }
      ],
      "source": [
        "import re\n",
        "letters_only = re.sub(\"[^a-zA-Z]\",           # The pattern to search for\n",
        "                      \" \",                   # The pattern to replace it with\n",
        "                      example1.get_text() )  # The text to search\n",
        "print (letters_only)"
      ]
    },
    {
      "cell_type": "markdown",
      "metadata": {
        "id": "3xbdTizzQOVI"
      },
      "source": [
        "Convert to lower case\n",
        "Split into words"
      ]
    },
    {
      "cell_type": "code",
      "execution_count": 10,
      "metadata": {
        "id": "5zqyIHN9yXXK"
      },
      "outputs": [],
      "source": [
        "lower_case = letters_only.lower()\n",
        "words = lower_case.split()"
      ]
    },
    {
      "cell_type": "code",
      "execution_count": 11,
      "metadata": {
        "id": "bg3kHRmbydG-"
      },
      "outputs": [],
      "source": [
        "lower_case = letters_only.lower()\n",
        "words = lower_case.split()"
      ]
    },
    {
      "cell_type": "markdown",
      "metadata": {
        "id": "GQAHfvrhQXUG"
      },
      "source": [
        " Download text data sets, including stop words"
      ]
    },
    {
      "cell_type": "code",
      "execution_count": null,
      "metadata": {
        "id": "W9boscnI-OtN"
      },
      "outputs": [],
      "source": [
        "\n",
        "import nltk\n",
        "nltk.download()"
      ]
    },
    {
      "cell_type": "markdown",
      "metadata": {
        "id": "FxDreuRcHgNm"
      },
      "source": [
        " Import the stop word list"
      ]
    },
    {
      "cell_type": "code",
      "execution_count": 13,
      "metadata": {
        "id": "03KywJVDHJ8K",
        "colab": {
          "base_uri": "https://localhost:8080/"
        },
        "outputId": "26c83614-bbb1-4020-f462-b5b3a34daaca"
      },
      "outputs": [
        {
          "output_type": "stream",
          "name": "stdout",
          "text": [
            "['i', 'me', 'my', 'myself', 'we', 'our', 'ours', 'ourselves', 'you', \"you're\", \"you've\", \"you'll\", \"you'd\", 'your', 'yours', 'yourself', 'yourselves', 'he', 'him', 'his', 'himself', 'she', \"she's\", 'her', 'hers', 'herself', 'it', \"it's\", 'its', 'itself', 'they', 'them', 'their', 'theirs', 'themselves', 'what', 'which', 'who', 'whom', 'this', 'that', \"that'll\", 'these', 'those', 'am', 'is', 'are', 'was', 'were', 'be', 'been', 'being', 'have', 'has', 'had', 'having', 'do', 'does', 'did', 'doing', 'a', 'an', 'the', 'and', 'but', 'if', 'or', 'because', 'as', 'until', 'while', 'of', 'at', 'by', 'for', 'with', 'about', 'against', 'between', 'into', 'through', 'during', 'before', 'after', 'above', 'below', 'to', 'from', 'up', 'down', 'in', 'out', 'on', 'off', 'over', 'under', 'again', 'further', 'then', 'once', 'here', 'there', 'when', 'where', 'why', 'how', 'all', 'any', 'both', 'each', 'few', 'more', 'most', 'other', 'some', 'such', 'no', 'nor', 'not', 'only', 'own', 'same', 'so', 'than', 'too', 'very', 's', 't', 'can', 'will', 'just', 'don', \"don't\", 'should', \"should've\", 'now', 'd', 'll', 'm', 'o', 're', 've', 'y', 'ain', 'aren', \"aren't\", 'couldn', \"couldn't\", 'didn', \"didn't\", 'doesn', \"doesn't\", 'hadn', \"hadn't\", 'hasn', \"hasn't\", 'haven', \"haven't\", 'isn', \"isn't\", 'ma', 'mightn', \"mightn't\", 'mustn', \"mustn't\", 'needn', \"needn't\", 'shan', \"shan't\", 'shouldn', \"shouldn't\", 'wasn', \"wasn't\", 'weren', \"weren't\", 'won', \"won't\", 'wouldn', \"wouldn't\"]\n"
          ]
        }
      ],
      "source": [
        "from nltk.corpus import stopwords\n",
        "print (stopwords.words(\"english\"))"
      ]
    },
    {
      "cell_type": "markdown",
      "metadata": {
        "id": "bhwSimQKQ4S3"
      },
      "source": [
        "Remove stop words from \"words\""
      ]
    },
    {
      "cell_type": "code",
      "execution_count": 14,
      "metadata": {
        "id": "bmJwM9k-RArq",
        "colab": {
          "base_uri": "https://localhost:8080/"
        },
        "outputId": "7fe66b89-b246-48cb-fef7-bed730ba91b5"
      },
      "outputs": [
        {
          "output_type": "stream",
          "name": "stdout",
          "text": [
            "['stuff', 'going', 'moment', 'mj', 'started', 'listening', 'music', 'watching', 'odd', 'documentary', 'watched', 'wiz', 'watched', 'moonwalker', 'maybe', 'want', 'get', 'certain', 'insight', 'guy', 'thought', 'really', 'cool', 'eighties', 'maybe', 'make', 'mind', 'whether', 'guilty', 'innocent', 'moonwalker', 'part', 'biography', 'part', 'feature', 'film', 'remember', 'going', 'see', 'cinema', 'originally', 'released', 'subtle', 'messages', 'mj', 'feeling', 'towards', 'press', 'also', 'obvious', 'message', 'drugs', 'bad', 'kay', 'visually', 'impressive', 'course', 'michael', 'jackson', 'unless', 'remotely', 'like', 'mj', 'anyway', 'going', 'hate', 'find', 'boring', 'may', 'call', 'mj', 'egotist', 'consenting', 'making', 'movie', 'mj', 'fans', 'would', 'say', 'made', 'fans', 'true', 'really', 'nice', 'actual', 'feature', 'film', 'bit', 'finally', 'starts', 'minutes', 'excluding', 'smooth', 'criminal', 'sequence', 'joe', 'pesci', 'convincing', 'psychopathic', 'powerful', 'drug', 'lord', 'wants', 'mj', 'dead', 'bad', 'beyond', 'mj', 'overheard', 'plans', 'nah', 'joe', 'pesci', 'character', 'ranted', 'wanted', 'people', 'know', 'supplying', 'drugs', 'etc', 'dunno', 'maybe', 'hates', 'mj', 'music', 'lots', 'cool', 'things', 'like', 'mj', 'turning', 'car', 'robot', 'whole', 'speed', 'demon', 'sequence', 'also', 'director', 'must', 'patience', 'saint', 'came', 'filming', 'kiddy', 'bad', 'sequence', 'usually', 'directors', 'hate', 'working', 'one', 'kid', 'let', 'alone', 'whole', 'bunch', 'performing', 'complex', 'dance', 'scene', 'bottom', 'line', 'movie', 'people', 'like', 'mj', 'one', 'level', 'another', 'think', 'people', 'stay', 'away', 'try', 'give', 'wholesome', 'message', 'ironically', 'mj', 'bestest', 'buddy', 'movie', 'girl', 'michael', 'jackson', 'truly', 'one', 'talented', 'people', 'ever', 'grace', 'planet', 'guilty', 'well', 'attention', 'gave', 'subject', 'hmmm', 'well', 'know', 'people', 'different', 'behind', 'closed', 'doors', 'know', 'fact', 'either', 'extremely', 'nice', 'stupid', 'guy', 'one', 'sickest', 'liars', 'hope', 'latter']\n"
          ]
        }
      ],
      "source": [
        "words = [w for w in words if not w in stopwords.words(\"english\")]\n",
        "print (words)"
      ]
    },
    {
      "cell_type": "markdown",
      "metadata": {
        "id": "UhYHpQ_ZWjQ0"
      },
      "source": [
        " Function to convert a raw review to a string of words\n",
        " The input is a single string (a raw movie review), and\n",
        " the output is a single string (a preprocessed movie review)\n",
        " 1. Remove HTML\n",
        " 2. Remove non-letters\n",
        " 3. Convert to lower case, split into individual words\n",
        " 4. In Python, searching a set is much faster than searching a list, so convert the stop words to a set\n",
        " 5. Remove stop words\n",
        " 6. Join the words back into one string separated by space, and return the result.\n"
      ]
    },
    {
      "cell_type": "code",
      "execution_count": 15,
      "metadata": {
        "id": "QlEs29TQS8K3"
      },
      "outputs": [],
      "source": [
        "def review_to_words( raw_review ):\n",
        "  review_text = BeautifulSoup(raw_review).get_text()\n",
        "  letters_only = re.sub(\"[^a-zA-Z]\", \" \", review_text)\n",
        "  words = letters_only.lower().split()\n",
        "  stops = set(stopwords.words(\"english\"))\n",
        "  meaningful_words = [w for w in words if not w in stops]\n",
        "  return( \" \".join( meaningful_words ))"
      ]
    },
    {
      "cell_type": "markdown",
      "metadata": {
        "id": "t45NT0iuS76L"
      },
      "source": [
        "calling the function for a single review:"
      ]
    },
    {
      "cell_type": "code",
      "execution_count": 16,
      "metadata": {
        "id": "ySn_0dw9dLI1",
        "colab": {
          "base_uri": "https://localhost:8080/"
        },
        "outputId": "47a8134b-bc29-4a7a-8371-13a8bec268ee"
      },
      "outputs": [
        {
          "output_type": "stream",
          "name": "stdout",
          "text": [
            "stuff going moment mj started listening music watching odd documentary watched wiz watched moonwalker maybe want get certain insight guy thought really cool eighties maybe make mind whether guilty innocent moonwalker part biography part feature film remember going see cinema originally released subtle messages mj feeling towards press also obvious message drugs bad kay visually impressive course michael jackson unless remotely like mj anyway going hate find boring may call mj egotist consenting making movie mj fans would say made fans true really nice actual feature film bit finally starts minutes excluding smooth criminal sequence joe pesci convincing psychopathic powerful drug lord wants mj dead bad beyond mj overheard plans nah joe pesci character ranted wanted people know supplying drugs etc dunno maybe hates mj music lots cool things like mj turning car robot whole speed demon sequence also director must patience saint came filming kiddy bad sequence usually directors hate working one kid let alone whole bunch performing complex dance scene bottom line movie people like mj one level another think people stay away try give wholesome message ironically mj bestest buddy movie girl michael jackson truly one talented people ever grace planet guilty well attention gave subject hmmm well know people different behind closed doors know fact either extremely nice stupid guy one sickest liars hope latter\n"
          ]
        }
      ],
      "source": [
        "clean_review = review_to_words( train[\"review\"][0] )\n",
        "print (clean_review)"
      ]
    },
    {
      "cell_type": "markdown",
      "source": [
        " Get the number of reviews based on the dataframe column size\n",
        " Initialize an empty list to hold the clean reviews\n",
        " Loop over each review; create an index i that goes from 0 to the length of the movie review list\n",
        " Call our function for each one, and add the result to the list of clean reviews"
      ],
      "metadata": {
        "id": "My3zLXvwKa2e"
      }
    },
    {
      "cell_type": "code",
      "execution_count": 17,
      "metadata": {
        "id": "OAXYTzeQdNyf",
        "colab": {
          "base_uri": "https://localhost:8080/",
          "height": 53
        },
        "outputId": "fe624a6c-9e9e-447a-88ee-4b882b82bfb3"
      },
      "outputs": [
        {
          "output_type": "execute_result",
          "data": {
            "text/plain": [
              "'\\nnum_reviews = train[\"review\"].size\\nclean_train_reviews = []\\nfor i in range( 0, num_reviews ):\\n  clean_train_reviews.append( review_to_words( train[\"review\"][i] ) )\\n  '"
            ],
            "application/vnd.google.colaboratory.intrinsic+json": {
              "type": "string"
            }
          },
          "metadata": {},
          "execution_count": 17
        }
      ],
      "source": [
        "'''\n",
        "num_reviews = train[\"review\"].size\n",
        "clean_train_reviews = []\n",
        "for i in range( 0, num_reviews ):\n",
        "  clean_train_reviews.append( review_to_words( train[\"review\"][i] ) )\n",
        "  '''"
      ]
    },
    {
      "cell_type": "markdown",
      "source": [
        "Cleaning and parsing the training set movie reviews..."
      ],
      "metadata": {
        "id": "S1YqW0dCK1gx"
      }
    },
    {
      "cell_type": "code",
      "execution_count": 18,
      "metadata": {
        "id": "oIhbU4-6ezuD",
        "colab": {
          "base_uri": "https://localhost:8080/"
        },
        "outputId": "52045916-ba5b-40b1-9b62-7fe9aa26d4a7"
      },
      "outputs": [
        {
          "output_type": "stream",
          "name": "stdout",
          "text": [
            "Cleaning and parsing the training set movie reviews...\n",
            "\n"
          ]
        },
        {
          "output_type": "stream",
          "name": "stderr",
          "text": [
            "<ipython-input-15-859e34a016be>:2: MarkupResemblesLocatorWarning: The input looks more like a filename than markup. You may want to open this file and pass the filehandle into Beautiful Soup.\n",
            "  review_text = BeautifulSoup(raw_review).get_text()\n"
          ]
        },
        {
          "output_type": "stream",
          "name": "stdout",
          "text": [
            "Review 5000 of 25000\n",
            "\n",
            "Review 10000 of 25000\n",
            "\n",
            "Review 15000 of 25000\n",
            "\n",
            "Review 20000 of 25000\n",
            "\n",
            "Review 25000 of 25000\n",
            "\n"
          ]
        }
      ],
      "source": [
        "print (\"Cleaning and parsing the training set movie reviews...\\n\")\n",
        "num_reviews = train[\"review\"].size\n",
        "clean_train_reviews = []\n",
        "for i in range( 0, num_reviews ):\n",
        "  if( (i+1)%5000 == 0 ):\n",
        "    print (\"Review %d of %d\\n\" % ( i+1, num_reviews ))\n",
        "  clean_train_reviews.append( review_to_words( train[\"review\"][i] ))"
      ]
    },
    {
      "cell_type": "code",
      "source": [
        "len(clean_train_reviews)\n",
        "clean_train_reviews[0]"
      ],
      "metadata": {
        "colab": {
          "base_uri": "https://localhost:8080/",
          "height": 174
        },
        "id": "MUiFq_dLq_mw",
        "outputId": "af8e0e85-5030-47fa-b4e4-525a6c1cf7fd"
      },
      "execution_count": 19,
      "outputs": [
        {
          "output_type": "execute_result",
          "data": {
            "text/plain": [
              "'stuff going moment mj started listening music watching odd documentary watched wiz watched moonwalker maybe want get certain insight guy thought really cool eighties maybe make mind whether guilty innocent moonwalker part biography part feature film remember going see cinema originally released subtle messages mj feeling towards press also obvious message drugs bad kay visually impressive course michael jackson unless remotely like mj anyway going hate find boring may call mj egotist consenting making movie mj fans would say made fans true really nice actual feature film bit finally starts minutes excluding smooth criminal sequence joe pesci convincing psychopathic powerful drug lord wants mj dead bad beyond mj overheard plans nah joe pesci character ranted wanted people know supplying drugs etc dunno maybe hates mj music lots cool things like mj turning car robot whole speed demon sequence also director must patience saint came filming kiddy bad sequence usually directors hate working one kid let alone whole bunch performing complex dance scene bottom line movie people like mj one level another think people stay away try give wholesome message ironically mj bestest buddy movie girl michael jackson truly one talented people ever grace planet guilty well attention gave subject hmmm well know people different behind closed doors know fact either extremely nice stupid guy one sickest liars hope latter'"
            ],
            "application/vnd.google.colaboratory.intrinsic+json": {
              "type": "string"
            }
          },
          "metadata": {},
          "execution_count": 19
        }
      ]
    },
    {
      "cell_type": "markdown",
      "source": [
        "creating the Bag of Words"
      ],
      "metadata": {
        "id": "kfxQrv-2L9V_"
      }
    },
    {
      "cell_type": "code",
      "execution_count": 20,
      "metadata": {
        "id": "IGfxODJ4fGlA"
      },
      "outputs": [],
      "source": [
        "from sklearn.feature_extraction.text import CountVectorizer\n",
        "vectorizer = CountVectorizer(analyzer = \"word\",   \\\n",
        "                             tokenizer = None,    \\\n",
        "                             preprocessor = None, \\\n",
        "                             stop_words = None,   \\\n",
        "                             max_features = 5000)\n",
        "\n"
      ]
    },
    {
      "cell_type": "code",
      "source": [
        "train_data_features = vectorizer.fit_transform(clean_train_reviews)\n",
        "train_data_features = train_data_features.toarray()"
      ],
      "metadata": {
        "id": "ee69fgEMrd_H"
      },
      "execution_count": 21,
      "outputs": []
    },
    {
      "cell_type": "code",
      "source": [
        "train_data_features.shape"
      ],
      "metadata": {
        "colab": {
          "base_uri": "https://localhost:8080/"
        },
        "id": "OLco0u9xrskd",
        "outputId": "5adedbeb-0e88-4f56-d420-0e5dbd0f7149"
      },
      "execution_count": 22,
      "outputs": [
        {
          "output_type": "execute_result",
          "data": {
            "text/plain": [
              "(25000, 5000)"
            ]
          },
          "metadata": {},
          "execution_count": 22
        }
      ]
    },
    {
      "cell_type": "markdown",
      "source": [
        "To see what the training data array now looks"
      ],
      "metadata": {
        "id": "dgOesXHOMFsk"
      }
    },
    {
      "cell_type": "code",
      "execution_count": 23,
      "metadata": {
        "id": "GJ-Miv9TffIs",
        "colab": {
          "base_uri": "https://localhost:8080/"
        },
        "outputId": "22ba740e-21ad-46aa-9ec0-4e314547cc99"
      },
      "outputs": [
        {
          "output_type": "stream",
          "name": "stdout",
          "text": [
            "(25000, 5000)\n"
          ]
        }
      ],
      "source": [
        "print (train_data_features.shape)"
      ]
    },
    {
      "cell_type": "markdown",
      "source": [
        " the vocabulary:"
      ],
      "metadata": {
        "id": "11p9Aq9dNNNh"
      }
    },
    {
      "cell_type": "code",
      "execution_count": null,
      "metadata": {
        "id": "6a1IEKsffizP"
      },
      "outputs": [],
      "source": [
        "#vocab = vectorizer.get_feature_names()\n",
        "#print (vocab)"
      ]
    },
    {
      "cell_type": "markdown",
      "source": [
        "print the counts of each word in the vocabulary:"
      ],
      "metadata": {
        "id": "3IdFYLB_NP0J"
      }
    },
    {
      "cell_type": "code",
      "execution_count": null,
      "metadata": {
        "id": "q8MXuIF8fnKd"
      },
      "outputs": [],
      "source": [
        "'''\n",
        "import numpy as np\n",
        "dist = np.sum(train_data_features, axis=0)\n",
        "for tag, count in zip(vocab, dist):\n",
        "    print (count, tag)\n",
        "'''"
      ]
    },
    {
      "cell_type": "markdown",
      "source": [
        "Training the random forest..."
      ],
      "metadata": {
        "id": "kRXBijUXNafQ"
      }
    },
    {
      "cell_type": "code",
      "source": [
        "y = train[\"sentiment\"]\n",
        "print (\"Training the random forest...\")\n",
        "from sklearn.ensemble import RandomForestClassifier\n",
        "forest = RandomForestClassifier(n_estimators = 100)\n",
        "rf_classifier = forest.fit( train_data_features, y )"
      ],
      "metadata": {
        "id": "7afKzV_UGTmD",
        "colab": {
          "base_uri": "https://localhost:8080/"
        },
        "outputId": "816b8a5a-4df5-4f72-ac25-1cbf036ab7e4"
      },
      "execution_count": 24,
      "outputs": [
        {
          "output_type": "stream",
          "name": "stdout",
          "text": [
            "Training the random forest...\n"
          ]
        }
      ]
    },
    {
      "cell_type": "code",
      "source": [
        "y_pred = rf_classifier.predict(train_data_features)"
      ],
      "metadata": {
        "id": "vNfj91udyt87"
      },
      "execution_count": 25,
      "outputs": []
    },
    {
      "cell_type": "code",
      "source": [
        "from sklearn.metrics._plot.confusion_matrix import confusion_matrix\n",
        "#EVALUATION metrics\n",
        "cm = confusion_matrix(y_pred, y)\n",
        "accuracy = accuracy_score(y_pred, y)\n",
        "recall = recall_score(y_pred, y)\n",
        "precision = precision_score(y_pred, y)\n",
        "f1 = f1_score(y_pred, y)\n",
        "\n",
        "print (\"Confusion matrix: {}\".format(cm))\n",
        "print (\"Accuracy: {}\".format(accuracy))\n",
        "print (\"Recall: {}\".format(recall))\n",
        "print (\"Precision: {}\".format(precision))\n",
        "print (\"F1-measure: {}\".format(f1))"
      ],
      "metadata": {
        "colab": {
          "base_uri": "https://localhost:8080/"
        },
        "id": "6Ug-fdyryuI7",
        "outputId": "6de8a2d7-3eed-453e-9d6b-223b67fe8558"
      },
      "execution_count": 26,
      "outputs": [
        {
          "output_type": "stream",
          "name": "stdout",
          "text": [
            "Confusion matrix: [[12500     0]\n",
            " [    0 12500]]\n",
            "Accuracy: 1.0\n",
            "Recall: 1.0\n",
            "Precision: 1.0\n",
            "F1-measure: 1.0\n"
          ]
        }
      ]
    },
    {
      "cell_type": "markdown",
      "source": [
        "Read the test data"
      ],
      "metadata": {
        "id": "lD9s0D8-mmUt"
      }
    },
    {
      "cell_type": "code",
      "source": [
        "test = pd.read_csv(root_data_path + '/dataset/' + \"testData.tsv.zip\", header=0, delimiter=\"\\t\", \\\n",
        "                   quoting=3 )"
      ],
      "metadata": {
        "id": "k_nNccW0drKN"
      },
      "execution_count": 27,
      "outputs": []
    },
    {
      "cell_type": "markdown",
      "source": [
        "Verify that there are 25,000 rows and 2 columns"
      ],
      "metadata": {
        "id": "wroqWPT4mqn_"
      }
    },
    {
      "cell_type": "code",
      "source": [
        "print (test.shape)"
      ],
      "metadata": {
        "colab": {
          "base_uri": "https://localhost:8080/"
        },
        "id": "diDaObUWfpiC",
        "outputId": "47239304-f001-494e-91b3-78e41817048f"
      },
      "execution_count": 28,
      "outputs": [
        {
          "output_type": "stream",
          "name": "stdout",
          "text": [
            "(25000, 2)\n"
          ]
        }
      ]
    },
    {
      "cell_type": "markdown",
      "source": [
        "Create an empty list and append the clean reviews one by one"
      ],
      "metadata": {
        "id": "rxTtU35KmwBQ"
      }
    },
    {
      "cell_type": "code",
      "source": [
        "num_reviews = len(test[\"review\"])\n",
        "clean_test_reviews = []"
      ],
      "metadata": {
        "id": "dQflj-xCgRfc"
      },
      "execution_count": 29,
      "outputs": []
    },
    {
      "cell_type": "markdown",
      "source": [
        "Cleaning and parsing the test set movie reviews..."
      ],
      "metadata": {
        "id": "qLdgUWXbmz6x"
      }
    },
    {
      "cell_type": "code",
      "source": [
        "print (\"Cleaning and parsing the test set movie reviews...\\n\")\n",
        "for i in range(0,num_reviews):\n",
        "    if( (i+1) % 1000 == 0 ):\n",
        "        print (\"Review %d of %d\\n\" % (i+1, num_reviews))\n",
        "    clean_review = review_to_words( test[\"review\"][i] )\n",
        "    clean_test_reviews.append( clean_review )"
      ],
      "metadata": {
        "id": "hJw1fo9DgXnd",
        "colab": {
          "base_uri": "https://localhost:8080/"
        },
        "outputId": "323d4947-b58e-4dae-f98a-484bacffb044"
      },
      "execution_count": 30,
      "outputs": [
        {
          "output_type": "stream",
          "name": "stdout",
          "text": [
            "Cleaning and parsing the test set movie reviews...\n",
            "\n"
          ]
        },
        {
          "output_type": "stream",
          "name": "stderr",
          "text": [
            "<ipython-input-15-859e34a016be>:2: MarkupResemblesLocatorWarning: The input looks more like a filename than markup. You may want to open this file and pass the filehandle into Beautiful Soup.\n",
            "  review_text = BeautifulSoup(raw_review).get_text()\n"
          ]
        },
        {
          "output_type": "stream",
          "name": "stdout",
          "text": [
            "Review 1000 of 25000\n",
            "\n",
            "Review 2000 of 25000\n",
            "\n",
            "Review 3000 of 25000\n",
            "\n",
            "Review 4000 of 25000\n",
            "\n",
            "Review 5000 of 25000\n",
            "\n",
            "Review 6000 of 25000\n",
            "\n",
            "Review 7000 of 25000\n",
            "\n",
            "Review 8000 of 25000\n",
            "\n",
            "Review 9000 of 25000\n",
            "\n",
            "Review 10000 of 25000\n",
            "\n",
            "Review 11000 of 25000\n",
            "\n",
            "Review 12000 of 25000\n",
            "\n",
            "Review 13000 of 25000\n",
            "\n",
            "Review 14000 of 25000\n",
            "\n",
            "Review 15000 of 25000\n",
            "\n",
            "Review 16000 of 25000\n",
            "\n",
            "Review 17000 of 25000\n",
            "\n",
            "Review 18000 of 25000\n",
            "\n",
            "Review 19000 of 25000\n",
            "\n",
            "Review 20000 of 25000\n",
            "\n",
            "Review 21000 of 25000\n",
            "\n",
            "Review 22000 of 25000\n",
            "\n",
            "Review 23000 of 25000\n",
            "\n",
            "Review 24000 of 25000\n",
            "\n",
            "Review 25000 of 25000\n",
            "\n"
          ]
        }
      ]
    },
    {
      "cell_type": "markdown",
      "source": [
        "Get a bag of words for the test set, and convert to a numpy array"
      ],
      "metadata": {
        "id": "XkYgwkP7m6m9"
      }
    },
    {
      "cell_type": "code",
      "source": [
        "test_data_features = vectorizer.transform(clean_test_reviews)\n",
        "test_data_features = test_data_features.toarray()"
      ],
      "metadata": {
        "id": "AeC34KbajBkZ"
      },
      "execution_count": 31,
      "outputs": []
    },
    {
      "cell_type": "markdown",
      "source": [
        "Use the random forest to make sentiment label predictions"
      ],
      "metadata": {
        "id": "Rw7buwerm_Mq"
      }
    },
    {
      "cell_type": "code",
      "source": [
        "result = forest.predict(test_data_features)"
      ],
      "metadata": {
        "id": "nMv36vLZjGav"
      },
      "execution_count": 32,
      "outputs": []
    },
    {
      "cell_type": "markdown",
      "source": [
        "Copy the results to a pandas dataframe with an \"id\" column and a \"sentiment\" column"
      ],
      "metadata": {
        "id": "FnSaen4bnEj8"
      }
    },
    {
      "cell_type": "code",
      "source": [
        "output = pd.DataFrame( data={\"id\":test[\"id\"], \"sentiment\":result} )"
      ],
      "metadata": {
        "id": "HnywxlkCljNx"
      },
      "execution_count": 33,
      "outputs": []
    },
    {
      "cell_type": "markdown",
      "source": [
        "Use pandas to write the comma-separated output file"
      ],
      "metadata": {
        "id": "bJUS53A1nJy4"
      }
    },
    {
      "cell_type": "code",
      "source": [
        "output.to_csv( \"Bag_of_Words_model.csv\", index=False, quoting=3 )"
      ],
      "metadata": {
        "id": "iCItiVE7lsoI"
      },
      "execution_count": 34,
      "outputs": []
    }
  ],
  "metadata": {
    "colab": {
      "provenance": []
    },
    "kernelspec": {
      "display_name": "Python 3",
      "name": "python3"
    },
    "language_info": {
      "name": "python"
    }
  },
  "nbformat": 4,
  "nbformat_minor": 0
}